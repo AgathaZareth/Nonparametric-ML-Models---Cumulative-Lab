{
 "cells": [
  {
   "cell_type": "markdown",
   "metadata": {},
   "source": [
    "# Nonparametric ML Models - Cumulative Lab\n",
    "\n",
    "## Introduction\n",
    "\n",
    "In this cumulative lab, you will apply two nonparametric models you have just learned — k-nearest neighbors and decision trees — to the forest cover dataset.\n",
    "\n",
    "## Objectives\n",
    "\n",
    "* Practice identifying and applying appropriate preprocessing steps\n",
    "* Perform an iterative modeling process, starting from a baseline model\n",
    "* Explore multiple model algorithms, and tune their hyperparameters\n",
    "* Practice choosing a final model across multiple model algorithms and evaluating its performance"
   ]
  },
  {
   "cell_type": "markdown",
   "metadata": {},
   "source": [
    "## Your Task: Complete an End-to-End ML Process with Nonparametric Models on the Forest Cover Dataset\n",
    "\n",
    "![line of pine trees](images/trees.jpg)\n",
    "\n",
    "Photo by <a href=\"https://unsplash.com/@michaelbenz?utm_source=unsplash&utm_medium=referral&utm_content=creditCopyText\">Michael Benz</a> on <a href=\"/s/photos/forest?utm_source=unsplash&utm_medium=referral&utm_content=creditCopyText\">Unsplash</a>"
   ]
  },
  {
   "cell_type": "markdown",
   "metadata": {},
   "source": [
    "### Business and Data Understanding\n",
    "\n",
    "To repeat the previous description:\n",
    "\n",
    "> Here we will be using an adapted version of the forest cover dataset from the [UCI Machine Learning Repository](https://archive.ics.uci.edu/ml/datasets/covertype). Each record represents a 30 x 30 meter cell of land within Roosevelt National Forest in northern Colorado, which has been labeled as `Cover_Type` 1 for \"Cottonwood/Willow\" and `Cover_Type` 0 for \"Ponderosa Pine\". (The original dataset contained 7 cover types but we have simplified it.)\n",
    "\n",
    "The task is to predict the `Cover_Type` based on the available cartographic variables:"
   ]
  },
  {
   "cell_type": "code",
   "execution_count": 1,
   "metadata": {},
   "outputs": [
    {
     "data": {
      "text/html": [
       "<div>\n",
       "<style scoped>\n",
       "    .dataframe tbody tr th:only-of-type {\n",
       "        vertical-align: middle;\n",
       "    }\n",
       "\n",
       "    .dataframe tbody tr th {\n",
       "        vertical-align: top;\n",
       "    }\n",
       "\n",
       "    .dataframe thead th {\n",
       "        text-align: right;\n",
       "    }\n",
       "</style>\n",
       "<table border=\"1\" class=\"dataframe\">\n",
       "  <thead>\n",
       "    <tr style=\"text-align: right;\">\n",
       "      <th></th>\n",
       "      <th>Elevation</th>\n",
       "      <th>Aspect</th>\n",
       "      <th>Slope</th>\n",
       "      <th>Horizontal_Distance_To_Hydrology</th>\n",
       "      <th>Vertical_Distance_To_Hydrology</th>\n",
       "      <th>Horizontal_Distance_To_Roadways</th>\n",
       "      <th>Hillshade_9am</th>\n",
       "      <th>Hillshade_Noon</th>\n",
       "      <th>Hillshade_3pm</th>\n",
       "      <th>Horizontal_Distance_To_Fire_Points</th>\n",
       "      <th>...</th>\n",
       "      <th>Soil_Type_31</th>\n",
       "      <th>Soil_Type_32</th>\n",
       "      <th>Soil_Type_33</th>\n",
       "      <th>Soil_Type_34</th>\n",
       "      <th>Soil_Type_35</th>\n",
       "      <th>Soil_Type_36</th>\n",
       "      <th>Soil_Type_37</th>\n",
       "      <th>Soil_Type_38</th>\n",
       "      <th>Soil_Type_39</th>\n",
       "      <th>Cover_Type</th>\n",
       "    </tr>\n",
       "  </thead>\n",
       "  <tbody>\n",
       "    <tr>\n",
       "      <th>0</th>\n",
       "      <td>2553</td>\n",
       "      <td>235</td>\n",
       "      <td>17</td>\n",
       "      <td>351</td>\n",
       "      <td>95</td>\n",
       "      <td>780</td>\n",
       "      <td>188</td>\n",
       "      <td>253</td>\n",
       "      <td>199</td>\n",
       "      <td>1410</td>\n",
       "      <td>...</td>\n",
       "      <td>0</td>\n",
       "      <td>0</td>\n",
       "      <td>0</td>\n",
       "      <td>0</td>\n",
       "      <td>0</td>\n",
       "      <td>0</td>\n",
       "      <td>0</td>\n",
       "      <td>0</td>\n",
       "      <td>0</td>\n",
       "      <td>0</td>\n",
       "    </tr>\n",
       "    <tr>\n",
       "      <th>1</th>\n",
       "      <td>2011</td>\n",
       "      <td>344</td>\n",
       "      <td>17</td>\n",
       "      <td>313</td>\n",
       "      <td>29</td>\n",
       "      <td>404</td>\n",
       "      <td>183</td>\n",
       "      <td>211</td>\n",
       "      <td>164</td>\n",
       "      <td>300</td>\n",
       "      <td>...</td>\n",
       "      <td>0</td>\n",
       "      <td>0</td>\n",
       "      <td>0</td>\n",
       "      <td>0</td>\n",
       "      <td>0</td>\n",
       "      <td>0</td>\n",
       "      <td>0</td>\n",
       "      <td>0</td>\n",
       "      <td>0</td>\n",
       "      <td>0</td>\n",
       "    </tr>\n",
       "    <tr>\n",
       "      <th>2</th>\n",
       "      <td>2022</td>\n",
       "      <td>24</td>\n",
       "      <td>13</td>\n",
       "      <td>391</td>\n",
       "      <td>42</td>\n",
       "      <td>509</td>\n",
       "      <td>212</td>\n",
       "      <td>212</td>\n",
       "      <td>134</td>\n",
       "      <td>421</td>\n",
       "      <td>...</td>\n",
       "      <td>0</td>\n",
       "      <td>0</td>\n",
       "      <td>0</td>\n",
       "      <td>0</td>\n",
       "      <td>0</td>\n",
       "      <td>0</td>\n",
       "      <td>0</td>\n",
       "      <td>0</td>\n",
       "      <td>0</td>\n",
       "      <td>0</td>\n",
       "    </tr>\n",
       "    <tr>\n",
       "      <th>3</th>\n",
       "      <td>2038</td>\n",
       "      <td>50</td>\n",
       "      <td>17</td>\n",
       "      <td>408</td>\n",
       "      <td>71</td>\n",
       "      <td>474</td>\n",
       "      <td>226</td>\n",
       "      <td>200</td>\n",
       "      <td>102</td>\n",
       "      <td>283</td>\n",
       "      <td>...</td>\n",
       "      <td>0</td>\n",
       "      <td>0</td>\n",
       "      <td>0</td>\n",
       "      <td>0</td>\n",
       "      <td>0</td>\n",
       "      <td>0</td>\n",
       "      <td>0</td>\n",
       "      <td>0</td>\n",
       "      <td>0</td>\n",
       "      <td>0</td>\n",
       "    </tr>\n",
       "    <tr>\n",
       "      <th>4</th>\n",
       "      <td>2018</td>\n",
       "      <td>341</td>\n",
       "      <td>27</td>\n",
       "      <td>351</td>\n",
       "      <td>34</td>\n",
       "      <td>390</td>\n",
       "      <td>152</td>\n",
       "      <td>188</td>\n",
       "      <td>168</td>\n",
       "      <td>190</td>\n",
       "      <td>...</td>\n",
       "      <td>0</td>\n",
       "      <td>0</td>\n",
       "      <td>0</td>\n",
       "      <td>0</td>\n",
       "      <td>0</td>\n",
       "      <td>0</td>\n",
       "      <td>0</td>\n",
       "      <td>0</td>\n",
       "      <td>0</td>\n",
       "      <td>0</td>\n",
       "    </tr>\n",
       "    <tr>\n",
       "      <th>...</th>\n",
       "      <td>...</td>\n",
       "      <td>...</td>\n",
       "      <td>...</td>\n",
       "      <td>...</td>\n",
       "      <td>...</td>\n",
       "      <td>...</td>\n",
       "      <td>...</td>\n",
       "      <td>...</td>\n",
       "      <td>...</td>\n",
       "      <td>...</td>\n",
       "      <td>...</td>\n",
       "      <td>...</td>\n",
       "      <td>...</td>\n",
       "      <td>...</td>\n",
       "      <td>...</td>\n",
       "      <td>...</td>\n",
       "      <td>...</td>\n",
       "      <td>...</td>\n",
       "      <td>...</td>\n",
       "      <td>...</td>\n",
       "      <td>...</td>\n",
       "    </tr>\n",
       "    <tr>\n",
       "      <th>38496</th>\n",
       "      <td>2396</td>\n",
       "      <td>153</td>\n",
       "      <td>20</td>\n",
       "      <td>85</td>\n",
       "      <td>17</td>\n",
       "      <td>108</td>\n",
       "      <td>240</td>\n",
       "      <td>237</td>\n",
       "      <td>118</td>\n",
       "      <td>837</td>\n",
       "      <td>...</td>\n",
       "      <td>0</td>\n",
       "      <td>0</td>\n",
       "      <td>0</td>\n",
       "      <td>0</td>\n",
       "      <td>0</td>\n",
       "      <td>0</td>\n",
       "      <td>0</td>\n",
       "      <td>0</td>\n",
       "      <td>0</td>\n",
       "      <td>0</td>\n",
       "    </tr>\n",
       "    <tr>\n",
       "      <th>38497</th>\n",
       "      <td>2391</td>\n",
       "      <td>152</td>\n",
       "      <td>19</td>\n",
       "      <td>67</td>\n",
       "      <td>12</td>\n",
       "      <td>95</td>\n",
       "      <td>240</td>\n",
       "      <td>237</td>\n",
       "      <td>119</td>\n",
       "      <td>845</td>\n",
       "      <td>...</td>\n",
       "      <td>0</td>\n",
       "      <td>0</td>\n",
       "      <td>0</td>\n",
       "      <td>0</td>\n",
       "      <td>0</td>\n",
       "      <td>0</td>\n",
       "      <td>0</td>\n",
       "      <td>0</td>\n",
       "      <td>0</td>\n",
       "      <td>0</td>\n",
       "    </tr>\n",
       "    <tr>\n",
       "      <th>38498</th>\n",
       "      <td>2386</td>\n",
       "      <td>159</td>\n",
       "      <td>17</td>\n",
       "      <td>60</td>\n",
       "      <td>7</td>\n",
       "      <td>90</td>\n",
       "      <td>236</td>\n",
       "      <td>241</td>\n",
       "      <td>130</td>\n",
       "      <td>854</td>\n",
       "      <td>...</td>\n",
       "      <td>0</td>\n",
       "      <td>0</td>\n",
       "      <td>0</td>\n",
       "      <td>0</td>\n",
       "      <td>0</td>\n",
       "      <td>0</td>\n",
       "      <td>0</td>\n",
       "      <td>0</td>\n",
       "      <td>0</td>\n",
       "      <td>0</td>\n",
       "    </tr>\n",
       "    <tr>\n",
       "      <th>38499</th>\n",
       "      <td>2384</td>\n",
       "      <td>170</td>\n",
       "      <td>15</td>\n",
       "      <td>60</td>\n",
       "      <td>5</td>\n",
       "      <td>90</td>\n",
       "      <td>230</td>\n",
       "      <td>245</td>\n",
       "      <td>143</td>\n",
       "      <td>864</td>\n",
       "      <td>...</td>\n",
       "      <td>0</td>\n",
       "      <td>0</td>\n",
       "      <td>0</td>\n",
       "      <td>0</td>\n",
       "      <td>0</td>\n",
       "      <td>0</td>\n",
       "      <td>0</td>\n",
       "      <td>0</td>\n",
       "      <td>0</td>\n",
       "      <td>0</td>\n",
       "    </tr>\n",
       "    <tr>\n",
       "      <th>38500</th>\n",
       "      <td>2383</td>\n",
       "      <td>165</td>\n",
       "      <td>13</td>\n",
       "      <td>60</td>\n",
       "      <td>4</td>\n",
       "      <td>67</td>\n",
       "      <td>231</td>\n",
       "      <td>244</td>\n",
       "      <td>141</td>\n",
       "      <td>875</td>\n",
       "      <td>...</td>\n",
       "      <td>0</td>\n",
       "      <td>0</td>\n",
       "      <td>0</td>\n",
       "      <td>0</td>\n",
       "      <td>0</td>\n",
       "      <td>0</td>\n",
       "      <td>0</td>\n",
       "      <td>0</td>\n",
       "      <td>0</td>\n",
       "      <td>0</td>\n",
       "    </tr>\n",
       "  </tbody>\n",
       "</table>\n",
       "<p>38501 rows × 53 columns</p>\n",
       "</div>"
      ],
      "text/plain": [
       "       Elevation  Aspect  Slope  Horizontal_Distance_To_Hydrology  \\\n",
       "0           2553     235     17                               351   \n",
       "1           2011     344     17                               313   \n",
       "2           2022      24     13                               391   \n",
       "3           2038      50     17                               408   \n",
       "4           2018     341     27                               351   \n",
       "...          ...     ...    ...                               ...   \n",
       "38496       2396     153     20                                85   \n",
       "38497       2391     152     19                                67   \n",
       "38498       2386     159     17                                60   \n",
       "38499       2384     170     15                                60   \n",
       "38500       2383     165     13                                60   \n",
       "\n",
       "       Vertical_Distance_To_Hydrology  Horizontal_Distance_To_Roadways  \\\n",
       "0                                  95                              780   \n",
       "1                                  29                              404   \n",
       "2                                  42                              509   \n",
       "3                                  71                              474   \n",
       "4                                  34                              390   \n",
       "...                               ...                              ...   \n",
       "38496                              17                              108   \n",
       "38497                              12                               95   \n",
       "38498                               7                               90   \n",
       "38499                               5                               90   \n",
       "38500                               4                               67   \n",
       "\n",
       "       Hillshade_9am  Hillshade_Noon  Hillshade_3pm  \\\n",
       "0                188             253            199   \n",
       "1                183             211            164   \n",
       "2                212             212            134   \n",
       "3                226             200            102   \n",
       "4                152             188            168   \n",
       "...              ...             ...            ...   \n",
       "38496            240             237            118   \n",
       "38497            240             237            119   \n",
       "38498            236             241            130   \n",
       "38499            230             245            143   \n",
       "38500            231             244            141   \n",
       "\n",
       "       Horizontal_Distance_To_Fire_Points  ...  Soil_Type_31  Soil_Type_32  \\\n",
       "0                                    1410  ...             0             0   \n",
       "1                                     300  ...             0             0   \n",
       "2                                     421  ...             0             0   \n",
       "3                                     283  ...             0             0   \n",
       "4                                     190  ...             0             0   \n",
       "...                                   ...  ...           ...           ...   \n",
       "38496                                 837  ...             0             0   \n",
       "38497                                 845  ...             0             0   \n",
       "38498                                 854  ...             0             0   \n",
       "38499                                 864  ...             0             0   \n",
       "38500                                 875  ...             0             0   \n",
       "\n",
       "       Soil_Type_33  Soil_Type_34  Soil_Type_35  Soil_Type_36  Soil_Type_37  \\\n",
       "0                 0             0             0             0             0   \n",
       "1                 0             0             0             0             0   \n",
       "2                 0             0             0             0             0   \n",
       "3                 0             0             0             0             0   \n",
       "4                 0             0             0             0             0   \n",
       "...             ...           ...           ...           ...           ...   \n",
       "38496             0             0             0             0             0   \n",
       "38497             0             0             0             0             0   \n",
       "38498             0             0             0             0             0   \n",
       "38499             0             0             0             0             0   \n",
       "38500             0             0             0             0             0   \n",
       "\n",
       "       Soil_Type_38  Soil_Type_39  Cover_Type  \n",
       "0                 0             0           0  \n",
       "1                 0             0           0  \n",
       "2                 0             0           0  \n",
       "3                 0             0           0  \n",
       "4                 0             0           0  \n",
       "...             ...           ...         ...  \n",
       "38496             0             0           0  \n",
       "38497             0             0           0  \n",
       "38498             0             0           0  \n",
       "38499             0             0           0  \n",
       "38500             0             0           0  \n",
       "\n",
       "[38501 rows x 53 columns]"
      ]
     },
     "execution_count": 1,
     "metadata": {},
     "output_type": "execute_result"
    }
   ],
   "source": [
    "# Run this cell without changes\n",
    "import pandas as pd\n",
    "\n",
    "df = pd.read_csv('data/forest_cover.csv')\n",
    "df"
   ]
  },
  {
   "cell_type": "markdown",
   "metadata": {},
   "source": [
    "> As you can see, we have over 38,000 rows, each with 52 feature columns and 1 target column:\n",
    "\n",
    "> * `Elevation`: Elevation in meters\n",
    "> * `Aspect`: Aspect in degrees azimuth\n",
    "> * `Slope`: Slope in degrees\n",
    "> * `Horizontal_Distance_To_Hydrology`: Horizontal dist to nearest surface water features in meters\n",
    "> * `Vertical_Distance_To_Hydrology`: Vertical dist to nearest surface water features in meters\n",
    "> * `Horizontal_Distance_To_Roadways`: Horizontal dist to nearest roadway in meters\n",
    "> * `Hillshade_9am`: Hillshade index at 9am, summer solstice\n",
    "> * `Hillshade_Noon`: Hillshade index at noon, summer solstice\n",
    "> * `Hillshade_3pm`: Hillshade index at 3pm, summer solstice\n",
    "> * `Horizontal_Distance_To_Fire_Points`: Horizontal dist to nearest wildfire ignition points, meters\n",
    "> * `Wilderness_Area_x`: Wilderness area designation (3 columns)\n",
    "> * `Soil_Type_x`: Soil Type designation (39 columns)\n",
    "> * `Cover_Type`: 1 for cottonwood/willow, 0 for ponderosa pine\n",
    "\n",
    "This is also an imbalanced dataset, since cottonwood/willow trees are relatively rare in this forest:"
   ]
  },
  {
   "cell_type": "code",
   "execution_count": 2,
   "metadata": {},
   "outputs": [
    {
     "name": "stdout",
     "output_type": "stream",
     "text": [
      "Raw Counts\n",
      "0    35754\n",
      "1     2747\n",
      "Name: Cover_Type, dtype: int64\n",
      "\n",
      "Percentages\n",
      "0    0.928651\n",
      "1    0.071349\n",
      "Name: Cover_Type, dtype: float64\n"
     ]
    }
   ],
   "source": [
    "# Run this cell without changes\n",
    "print(\"Raw Counts\")\n",
    "print(df[\"Cover_Type\"].value_counts())\n",
    "print()\n",
    "print(\"Percentages\")\n",
    "print(df[\"Cover_Type\"].value_counts(normalize=True))"
   ]
  },
  {
   "cell_type": "markdown",
   "metadata": {},
   "source": [
    "Thus, a baseline model that always chose the majority class would have an accuracy of over 92%. Therefore we will want to report additional metrics at the end."
   ]
  },
  {
   "cell_type": "markdown",
   "metadata": {},
   "source": [
    "### Previous Best Model\n",
    "\n",
    "In a previous lab, we used SMOTE to create additional synthetic data, then tuned the hyperparameters of a logistic regression model to get the following final model metrics:\n",
    "\n",
    "* **Log loss:** 0.13031294393913376\n",
    "* **Accuracy:** 0.9456679825472678\n",
    "* **Precision:** 0.6659919028340081\n",
    "* **Recall:** 0.47889374090247455\n",
    "\n",
    "In this lab, you will try to beat those scores using more-complex, nonparametric models.\n",
    "\n",
    "### Modeling\n",
    "\n",
    "Although you may be aware of some additional model algorithms available from scikit-learn, for this lab you will be focusing on two of them: k-nearest neighbors and decision trees. Here are some reminders about these models:\n",
    "\n",
    "#### kNN - [documentation here](https://scikit-learn.org/stable/modules/generated/sklearn.neighbors.KNeighborsClassifier.html)\n",
    "\n",
    "This algorithm — unlike linear models or tree-based models — does not emphasize learning the relationship between the features and the target. Instead, for a given test record, it finds the most similar records in the training set and returns an average of their target values.\n",
    "\n",
    "* **Training speed:** Fast. In theory it's just saving the training data for later, although the scikit-learn implementation has some additional logic \"under the hood\" to make prediction faster.\n",
    "* **Prediction speed:** Very slow. The model has to look at every record in the training set to find the k closest to the new record.\n",
    "* **Requires scaling:** Yes. The algorithm to find the nearest records is distance-based, so it matters that distances are all on the same scale.\n",
    "* **Key hyperparameters:** `n_neighbors` (how many nearest neighbors to find; too few neighbors leads to overfitting, too many leads to underfitting), `p` and `metric` (what kind of distance to use in defining \"nearest\" neighbors)\n",
    "\n",
    "#### Decision Trees - [documentation here](https://scikit-learn.org/stable/modules/generated/sklearn.tree.DecisionTreeClassifier.html)\n",
    "\n",
    "Similar to linear models (and unlike kNN), this algorithm emphasizes learning the relationship between the features and the target. However, unlike a linear model that tries to find linear relationships between each of the features and the target, decision trees look for ways to split the data based on features to decrease the entropy of the target in each split.\n",
    "\n",
    "* **Training speed:** Slow. The model is considering splits based on as many as all of the available features, and it can split on the same feature multiple times. This requires exponential computational time that increases based on the number of columns as well as the number of rows.\n",
    "* **Prediction speed:** Medium fast. Producing a prediction with a decision tree means applying several conditional statements, which is slower than something like logistic regression but faster than kNN.\n",
    "* **Requires scaling:** No. This model is not distance-based. You also can use a `LabelEncoder` rather than `OneHotEncoder` for categorical data, since this algorithm doesn't necessarily assume that the distance between `1` and `2` is the same as the distance between `2` and `3`.\n",
    "* **Key hyperparameters:** Many features relating to \"pruning\" the tree. By default they are set so the tree can overfit, and by setting them higher or lower (depending on the hyperparameter) you can reduce overfitting, but too much will lead to underfitting. These are: `max_depth`, `min_samples_split`, `min_samples_leaf`, `min_weight_fraction_leaf`, `max_features`, `max_leaf_nodes`, and `min_impurity_decrease`. You can also try changing the `criterion` to \"entropy\" or the `splitter` to \"random\" if you want to change the splitting logic."
   ]
  },
  {
   "cell_type": "markdown",
   "metadata": {},
   "source": [
    "### Requirements\n",
    "\n",
    "#### 1. Prepare the Data for Modeling\n",
    "\n",
    "#### 2. Build a Baseline kNN Model\n",
    "\n",
    "#### 3. Build Iterative Models to Find the Best kNN Model\n",
    "\n",
    "#### 4. Build a Baseline Decision Tree Model\n",
    "\n",
    "#### 5. Build Iterative Models to Find the Best Decision Tree Model\n",
    "\n",
    "#### 6. Choose and Evaluate an Overall Best Model"
   ]
  },
  {
   "cell_type": "markdown",
   "metadata": {},
   "source": [
    "## 1. Prepare the Data for Modeling\n",
    "\n",
    "The target is `Cover_Type`. In the cell below, split `df` into `X` and `y`, then perform a train-test split with `random_state=42` and `stratify=y` to create variables with the standard `X_train`, `X_test`, `y_train`, `y_test` names.\n",
    "\n",
    "Include the relevant imports as you go."
   ]
  },
  {
   "cell_type": "code",
   "execution_count": 3,
   "metadata": {},
   "outputs": [],
   "source": [
    "# Your code here\n",
    "from sklearn.model_selection import train_test_split\n",
    "\n",
    "target = 'Cover_Type'\n",
    "y = df[target]\n",
    "X = df.drop(target, axis=1)\n",
    "\n",
    "X_train, X_test, y_train, y_test = train_test_split(X,y, random_state=42, stratify=y)"
   ]
  },
  {
   "cell_type": "markdown",
   "metadata": {},
   "source": [
    "Now, instantiate a `StandardScaler`, fit it on `X_train`, and create new variables `X_train_scaled` and `X_test_scaled` containing values transformed with the scaler."
   ]
  },
  {
   "cell_type": "code",
   "execution_count": 4,
   "metadata": {},
   "outputs": [],
   "source": [
    "# Your code here\n",
    "from sklearn.preprocessing import StandardScaler\n",
    "scaler = StandardScaler()\n",
    "scaler.fit(X_train)\n",
    "\n",
    "X_train_scaled = scaler.transform(X_train)\n",
    "X_test_scaled = scaler.transform(X_test)"
   ]
  },
  {
   "cell_type": "markdown",
   "metadata": {},
   "source": [
    "The following code checks that everything is set up correctly:"
   ]
  },
  {
   "cell_type": "code",
   "execution_count": 5,
   "metadata": {},
   "outputs": [],
   "source": [
    "# Run this cell without changes\n",
    "\n",
    "# Checking that df was separated into correct X and y\n",
    "assert type(X) == pd.DataFrame and X.shape == (38501, 52)\n",
    "assert type(y) == pd.Series and y.shape == (38501,)\n",
    "\n",
    "# Checking the train-test split\n",
    "assert type(X_train) == pd.DataFrame and X_train.shape == (28875, 52)\n",
    "assert type(X_test) == pd.DataFrame and X_test.shape == (9626, 52)\n",
    "assert type(y_train) == pd.Series and y_train.shape == (28875,)\n",
    "assert type(y_test) == pd.Series and y_test.shape == (9626,)\n",
    "\n",
    "# Checking the scaling\n",
    "assert X_train_scaled.shape == X_train.shape\n",
    "assert round(X_train_scaled[0][0], 3) == -0.636\n",
    "assert X_test_scaled.shape == X_test.shape\n",
    "assert round(X_test_scaled[0][0], 3) == -1.370"
   ]
  },
  {
   "cell_type": "markdown",
   "metadata": {},
   "source": [
    "## 2. Build a Baseline kNN Model\n",
    "\n",
    "Build a scikit-learn kNN model with default hyperparameters. Then use `cross_val_score` with `scoring=\"neg_log_loss\"` to find the mean log loss for this model (passing in `X_train_scaled` and `y_train` to `cross_val_score`). You'll need to find the mean of the cross-validated scores, and negate the value (either put a `-` at the beginning or multiply by `-1`) so that your answer is a log loss rather than a negative log loss.\n",
    "\n",
    "Call the resulting score `knn_baseline_log_loss`.\n",
    "\n",
    "Your code might take a minute or more to run."
   ]
  },
  {
   "cell_type": "code",
   "execution_count": 6,
   "metadata": {},
   "outputs": [
    {
     "data": {
      "text/plain": [
       "0.1255288892455634"
      ]
     },
     "execution_count": 6,
     "metadata": {},
     "output_type": "execute_result"
    }
   ],
   "source": [
    "# Replace None with appropriate code\n",
    "\n",
    "# Relevant imports\n",
    "from sklearn.model_selection import cross_val_score \n",
    "from sklearn.neighbors import KNeighborsClassifier \n",
    "\n",
    "# Creating the model\n",
    "knn_baseline_model = KNeighborsClassifier()\n",
    "\n",
    "## do I fit? NO\n",
    "#knn_baseline_model.fit(X_train_scaled, y_train) \n",
    "\n",
    "## Get cross_val_scores\n",
    "cv_results = cross_val_score(\n",
    "    knn_baseline_model,  # current model\n",
    "    X_train_scaled, # X data to use\n",
    "    y_train, \n",
    "    scoring='neg_log_loss'\n",
    ") ## could add .mean() and combine next step into this one step\n",
    "\n",
    "## Get the mean\n",
    "cv_mean = cv_results.mean()\n",
    "\n",
    "# Perform cross-validation\n",
    "## remember to negate negative  \n",
    "knn_baseline_log_loss = -cv_mean\n",
    "\n",
    "knn_baseline_log_loss"
   ]
  },
  {
   "cell_type": "markdown",
   "metadata": {},
   "source": [
    "Our best logistic regression model had a log loss of 0.13031294393913376\n",
    "\n",
    "Is this model better? Compare it in terms of metrics and speed."
   ]
  },
  {
   "cell_type": "code",
   "execution_count": 7,
   "metadata": {},
   "outputs": [
    {
     "name": "stdout",
     "output_type": "stream",
     "text": [
      "\n"
     ]
    }
   ],
   "source": [
    "# Replace None with appropriate text\n",
    "\"\"\"\n",
    "SPEED: The cross validation took a while to run, I am not sure if my laptop is slow or if that is how long it \n",
    "takes to cross validate this amount of data. \n",
    "\n",
    "METRICS: With log loss, smaller is better so in this case our log loss of .125 is better than our best logistic\n",
    "regression model of .130.\n",
    "\n",
    "Is this model better? I would say yes that this baseline knn model is better than our logistic regression model. \n",
    "However, the crossvalidation part of establishing its superiority is less than ideal. I would want to find a better (quicker)\n",
    "way of measuring this models performance.\n",
    "\"\"\"\n",
    "print()"
   ]
  },
  {
   "cell_type": "markdown",
   "metadata": {},
   "source": [
    "## 3. Build Iterative Models to Find the Best kNN Model\n",
    "\n",
    "Build and evaluate at least two more kNN models to find the best one. Explain why you are changing the hyperparameters you are changing as you go. These models will be *slow* to run, so be thinking about what you might try next as you run them."
   ]
  },
  {
   "cell_type": "code",
   "execution_count": 8,
   "metadata": {},
   "outputs": [
    {
     "data": {
      "text/plain": [
       "{'algorithm': 'auto',\n",
       " 'leaf_size': 30,\n",
       " 'metric': 'minkowski',\n",
       " 'metric_params': None,\n",
       " 'n_jobs': None,\n",
       " 'n_neighbors': 5,\n",
       " 'p': 2,\n",
       " 'weights': 'uniform'}"
      ]
     },
     "execution_count": 8,
     "metadata": {},
     "output_type": "execute_result"
    }
   ],
   "source": [
    "# Your code here (add more cells as needed)\n",
    "\n",
    "# get baseline parameters that were used in this model\n",
    "knn_baseline_model.get_params()"
   ]
  },
  {
   "cell_type": "markdown",
   "metadata": {},
   "source": [
    "### 3A. Change `weights='distance'`"
   ]
  },
  {
   "cell_type": "code",
   "execution_count": 9,
   "metadata": {},
   "outputs": [
    {
     "data": {
      "text/plain": [
       "0.12226739703628035"
      ]
     },
     "execution_count": 9,
     "metadata": {},
     "output_type": "execute_result"
    }
   ],
   "source": [
    "# Creating the model\n",
    "knn_weights = KNeighborsClassifier(weights='distance')\n",
    "\n",
    "## Change this to do all in one line\n",
    "# Perform cross-validation \n",
    "knn_weights_log_loss = -cross_val_score(knn_weights,  X_train_scaled, y_train, \\\n",
    "                                         scoring='neg_log_loss').mean()\n",
    "\n",
    "knn_weights_log_loss"
   ]
  },
  {
   "cell_type": "markdown",
   "metadata": {},
   "source": [
    "**NOTES:** Slight improvement, from .1255 to .1223"
   ]
  },
  {
   "cell_type": "markdown",
   "metadata": {},
   "source": [
    "### 3B. With `weights='distance'` use a for loop to find best number of k neighbors \n"
   ]
  },
  {
   "cell_type": "code",
   "execution_count": 10,
   "metadata": {},
   "outputs": [
    {
     "name": "stdout",
     "output_type": "stream",
     "text": [
      "Best k: 25\n",
      "Best log loss score: 0.05616502147205423\n"
     ]
    }
   ],
   "source": [
    "# Your code here (add more cells as needed)\n",
    "best_k = 0 # keep track of current best score\n",
    "best_log_loss = 1.0 # keep track of current best score\n",
    "\n",
    "for k in [1,25,50,75]:\n",
    "    # Instantiate KNeighborsClassifier\n",
    "    knn = KNeighborsClassifier(weights='distance', n_neighbors=k)\n",
    "    \n",
    "    # Perform cross-validation\n",
    "    log_loss = -cross_val_score(knn, X_train_scaled, y_train, \\\n",
    "                                         scoring='neg_log_loss').mean()\n",
    "    # assign best values\n",
    "    if log_loss < best_log_loss:\n",
    "        best_log_loss = log_loss\n",
    "        best_k = k\n",
    "        \n",
    "print(f'Best k: {best_k}\\nBest log loss score: {best_log_loss}')"
   ]
  },
  {
   "cell_type": "markdown",
   "metadata": {},
   "source": [
    "**NOTES:** Big improvement from knn_weights model of .1223 to .0562 "
   ]
  },
  {
   "cell_type": "markdown",
   "metadata": {},
   "source": [
    "### 3C. WITHOUT `weights='distance'` use a for loop to find best number of k neighbors "
   ]
  },
  {
   "cell_type": "code",
   "execution_count": 11,
   "metadata": {},
   "outputs": [
    {
     "name": "stdout",
     "output_type": "stream",
     "text": [
      "Best k: 25\n",
      "Best log loss score: 0.06425722742416393\n"
     ]
    }
   ],
   "source": [
    "best_k = 0 # keep track of current best score\n",
    "best_log_loss = 1.0 # keep track of current best score\n",
    "\n",
    "for k in [1,25,50,75]:\n",
    "    # Instantiate KNeighborsClassifier\n",
    "    knn = KNeighborsClassifier(n_neighbors=k)\n",
    "    \n",
    "    # Perform cross-validation\n",
    "    log_loss = -cross_val_score(knn, X_train_scaled, y_train, \\\n",
    "                                         scoring='neg_log_loss').mean()\n",
    "    # assign best values\n",
    "    if log_loss < best_log_loss:\n",
    "        best_log_loss = log_loss\n",
    "        best_k = k\n",
    "        \n",
    "print(f'Best k: {best_k}\\nBest log loss score: {best_log_loss}')"
   ]
  },
  {
   "cell_type": "markdown",
   "metadata": {},
   "source": [
    "**NOTES:** Using default weight parameter (removing weights='distance') resulted in a higher log loss.\n",
    "\n",
    "Current best model is: `KNeighborsClassifier(weights='distance', n_neighbors=25)` with a log loss of 0.056165"
   ]
  },
  {
   "cell_type": "markdown",
   "metadata": {},
   "source": [
    "### 3D. Adjust `leaf_size`\n",
    "`leaf_size` default is 30, I will -+ 20 in both directions with a step size of 10. I will keep current best paramaters as I for loop through leaf_sizes"
   ]
  },
  {
   "cell_type": "code",
   "execution_count": 12,
   "metadata": {},
   "outputs": [],
   "source": [
    "current_best_model = KNeighborsClassifier(weights='distance', n_neighbors=25)\n",
    "current_best_log_loss = 0.05616502147205423"
   ]
  },
  {
   "cell_type": "code",
   "execution_count": 13,
   "metadata": {},
   "outputs": [
    {
     "name": "stdout",
     "output_type": "stream",
     "text": [
      "Best leaf size: 30\n",
      "Best log loss score: 0.06425722742416393\n"
     ]
    }
   ],
   "source": [
    "best_leaf_size = 30 # keep track of current best score\n",
    "\n",
    "for leaf_size in [10,20,40,50]:\n",
    "    # Instantiate KNeighborsClassifier\n",
    "    knn = KNeighborsClassifier(weights='distance', n_neighbors=25, leaf_size=leaf_size)\n",
    "    \n",
    "    # Perform cross-validation\n",
    "    log_loss = -cross_val_score(knn, X_train_scaled, y_train, \\\n",
    "                                         scoring='neg_log_loss').mean()\n",
    "    # assign best values\n",
    "    if log_loss < current_best_log_loss:\n",
    "        current_best_log_loss = log_loss\n",
    "        best_leaf_size = leaf_size\n",
    "        \n",
    "print(f'Best leaf size: {best_leaf_size}\\nBest log loss score: {best_log_loss}')"
   ]
  },
  {
   "cell_type": "markdown",
   "metadata": {},
   "source": [
    "**NOTES:** `leaf_size` default value of 30 is best.\n",
    "\n",
    "`current_best_model` remains `KNeighborsClassifier(weights='distance', n_neighbors=25)`"
   ]
  },
  {
   "cell_type": "markdown",
   "metadata": {},
   "source": [
    "### 3E. Change `p=1` \n",
    "\n",
    "When p = 1, this is equivalent to using manhattan_distance (l1), and euclidean_distance(l2) for p = 2."
   ]
  },
  {
   "cell_type": "code",
   "execution_count": 14,
   "metadata": {},
   "outputs": [
    {
     "data": {
      "text/plain": [
       "0.057770545147750915"
      ]
     },
     "execution_count": 14,
     "metadata": {},
     "output_type": "execute_result"
    }
   ],
   "source": [
    "knn_p1 = KNeighborsClassifier(weights='distance', n_neighbors=25, p=1)\n",
    "\n",
    "# Perform cross-validation\n",
    "log_loss_p1 = -cross_val_score(knn_p1, X_train_scaled, y_train, \\\n",
    "                                     scoring='neg_log_loss').mean()\n",
    "log_loss_p1"
   ]
  },
  {
   "cell_type": "markdown",
   "metadata": {},
   "source": [
    "**NOTES:** Changing power parameter from 2 to 1 increased the log loss slightly.\n",
    "\n",
    "`current_best_model` remains `KNeighborsClassifier(weights='distance', n_neighbors=25)`"
   ]
  },
  {
   "cell_type": "markdown",
   "metadata": {},
   "source": [
    "## 4. Build a Baseline Decision Tree Model\n",
    "\n",
    "Now that you have chosen your best kNN model, start investigating decision tree models. First, build and evaluate a baseline decision tree model, using default hyperparameters (with the exception of `random_state=42` for reproducibility).\n",
    "\n",
    "(Use cross-validated log loss, just like with the previous models.)"
   ]
  },
  {
   "cell_type": "code",
   "execution_count": 15,
   "metadata": {},
   "outputs": [
    {
     "name": "stdout",
     "output_type": "stream",
     "text": [
      "Baseline Decision Tree Classifer log loss: 0.6913810510118484\n"
     ]
    }
   ],
   "source": [
    "# Your code here\n",
    "from sklearn.tree import DecisionTreeClassifier\n",
    "\n",
    "# Instantiate DecisionTreeClassifier\n",
    "dt_base = DecisionTreeClassifier(random_state=45)\n",
    "\n",
    "# Perform cross-validation \n",
    "dt_base_log_loss = -cross_val_score(dt_base,  X_train_scaled, y_train, \\\n",
    "                                         scoring='neg_log_loss').mean()\n",
    "\n",
    "print(f'Baseline Decision Tree Classifer log loss: {dt_base_log_loss}')"
   ]
  },
  {
   "cell_type": "markdown",
   "metadata": {},
   "source": [
    "Interpret this score. How does this compare to the log loss from our best logistic regression and best kNN models? Any guesses about why?"
   ]
  },
  {
   "cell_type": "code",
   "execution_count": 16,
   "metadata": {},
   "outputs": [
    {
     "data": {
      "text/plain": [
       "'\\nWow that was fast! The log loss score is much higher (worse) but the speed of calculating is almost instant. \\nDecision trees are known for overfitting so it is likely the terrible score is a result of this tendency.\\n'"
      ]
     },
     "execution_count": 16,
     "metadata": {},
     "output_type": "execute_result"
    }
   ],
   "source": [
    "# Replace None with appropriate text\n",
    "\"\"\"\n",
    "Wow that was fast! The log loss score is much higher (worse) but the speed of calculating is almost instant. \n",
    "Decision trees are known for overfitting so it is likely the terrible score is a result of this tendency.\n",
    "\"\"\""
   ]
  },
  {
   "cell_type": "markdown",
   "metadata": {},
   "source": [
    "## 5. Build Iterative Models to Find the Best Decision Tree Model\n",
    "\n",
    "Build and evaluate at least two more decision tree models to find the best one. Explain why you are changing the hyperparameters you are changing as you go."
   ]
  },
  {
   "cell_type": "code",
   "execution_count": 17,
   "metadata": {},
   "outputs": [
    {
     "data": {
      "text/plain": [
       "{'ccp_alpha': 0.0,\n",
       " 'class_weight': None,\n",
       " 'criterion': 'gini',\n",
       " 'max_depth': None,\n",
       " 'max_features': None,\n",
       " 'max_leaf_nodes': None,\n",
       " 'min_impurity_decrease': 0.0,\n",
       " 'min_impurity_split': None,\n",
       " 'min_samples_leaf': 1,\n",
       " 'min_samples_split': 2,\n",
       " 'min_weight_fraction_leaf': 0.0,\n",
       " 'presort': 'deprecated',\n",
       " 'random_state': 45,\n",
       " 'splitter': 'best'}"
      ]
     },
     "execution_count": 17,
     "metadata": {},
     "output_type": "execute_result"
    }
   ],
   "source": [
    "# First get baseline parameters that were used in this model\n",
    "dt_base.get_params()"
   ]
  },
  {
   "cell_type": "markdown",
   "metadata": {},
   "source": [
    "**NOTES:** Before adjusting things like `class_weight` and `criterion`, I should prune the tree first. Use for loops to find best values on `max_depth`, `max_features`, and `min_samples_split`"
   ]
  },
  {
   "cell_type": "markdown",
   "metadata": {},
   "source": [
    "### 5A. Use `X_train` (instead of `X_train_scaled`)"
   ]
  },
  {
   "cell_type": "code",
   "execution_count": 18,
   "metadata": {},
   "outputs": [
    {
     "data": {
      "text/plain": [
       "0.6877925513277068"
      ]
     },
     "execution_count": 18,
     "metadata": {},
     "output_type": "execute_result"
    }
   ],
   "source": [
    "dt_NOT_scaled = DecisionTreeClassifier(random_state=45)\n",
    "\n",
    "# Perform cross-validation \n",
    "dt_NOT_scaled_log_loss = -cross_val_score(dt_NOT_scaled,  X_train, y_train, \\\n",
    "                                         scoring='neg_log_loss').mean()\n",
    "\n",
    "dt_NOT_scaled_log_loss"
   ]
  },
  {
   "cell_type": "markdown",
   "metadata": {},
   "source": [
    "**NOTES:** Not using scaled data improved the score: from 0.691 to 0.688"
   ]
  },
  {
   "cell_type": "markdown",
   "metadata": {},
   "source": [
    "### 5B. Adjust `max_depth`"
   ]
  },
  {
   "cell_type": "code",
   "execution_count": 19,
   "metadata": {},
   "outputs": [
    {
     "name": "stdout",
     "output_type": "stream",
     "text": [
      "Best Log Loss: 0.1123665727154893 with `max_features=6`\n"
     ]
    },
    {
     "data": {
      "image/png": "[encoded data removed]",
      "text/plain": [
       "<Figure size 720x216 with 1 Axes>"
      ]
     },
     "metadata": {
      "needs_background": "light"
     },
     "output_type": "display_data"
    }
   ],
   "source": [
    "import matplotlib.pyplot as plt\n",
    "plt.style.use('ggplot')\n",
    "%matplotlib inline\n",
    "\n",
    "max_d = 0 \n",
    "depth_log_loss = 1\n",
    "depth_scores = []\n",
    "\n",
    "for max_depth in range(1, 31):\n",
    "    dt = DecisionTreeClassifier(max_depth=max_depth, random_state=45)\n",
    "    log_loss = -cross_val_score(dt, X_train, y_train, scoring='neg_log_loss').mean()\n",
    "    depth_scores.append(log_loss)\n",
    "    if log_loss < depth_log_loss:\n",
    "        max_d = max_depth\n",
    "        depth_log_loss = log_loss\n",
    "print(f'Best Log Loss: {depth_log_loss} with `max_features={max_d}`')\n",
    "\n",
    "plt.figure(figsize=(10, 3))\n",
    "plt.plot(depth_scores, c='tab:red', label='Log Loss Scores')\n",
    "plt.title('Max Depth Log Loss Scores')\n",
    "plt.xlabel('Tree Depth')\n",
    "plt.ylabel('Log Loss Score')\n",
    "plt.legend();"
   ]
  },
  {
   "cell_type": "markdown",
   "metadata": {},
   "source": [
    "**NOTES:** Best Log Loss: 0.1123665727154893 with `max_features=6`"
   ]
  },
  {
   "cell_type": "markdown",
   "metadata": {},
   "source": [
    "### 5C. Adjust `max_features`"
   ]
  },
  {
   "cell_type": "code",
   "execution_count": 20,
   "metadata": {},
   "outputs": [
    {
     "name": "stdout",
     "output_type": "stream",
     "text": [
      "Best Log Loss: 0.10775255346043314 with `max_features=33`\n"
     ]
    },
    {
     "data": {
      "image/png": "[encoded data removed]",
      "text/plain": [
       "<Figure size 720x216 with 1 Axes>"
      ]
     },
     "metadata": {
      "needs_background": "light"
     },
     "output_type": "display_data"
    }
   ],
   "source": [
    "max_feat = 0\n",
    "min_feature_log_loss = 1\n",
    "feature_scores = []\n",
    "\n",
    "for max_features in range(1, len(X_train.columns)):\n",
    "    dt = DecisionTreeClassifier(max_depth=6, max_features=max_features, random_state=45)\n",
    "    log_loss = -cross_val_score(dt, X_train, y_train, scoring='neg_log_loss').mean()\n",
    "    feature_scores.append(log_loss)\n",
    "    if log_loss < min_feature_log_loss:\n",
    "        max_feat = max_features\n",
    "        min_feature_log_loss = log_loss\n",
    "print(f'Best Log Loss: {min_feature_log_loss} with `max_features={max_feat}`')\n",
    "\n",
    "plt.figure(figsize=(10, 3))\n",
    "plt.plot(feature_scores, c='tab:blue', label='Log Loss Scores')\n",
    "plt.title('Max Features Log Loss Scores')\n",
    "plt.xlabel('Number of Features used')\n",
    "plt.ylabel('Log Loss Score')\n",
    "plt.legend();"
   ]
  },
  {
   "cell_type": "markdown",
   "metadata": {},
   "source": [
    "**NOTES:** Best Log Loss: 0.10775255346043314: \n",
    "- `max_features=33` \n",
    "- `max_features=6`"
   ]
  },
  {
   "cell_type": "markdown",
   "metadata": {},
   "source": [
    "### 5E. Adjust  `min_samples_leaf`"
   ]
  },
  {
   "cell_type": "code",
   "execution_count": 21,
   "metadata": {},
   "outputs": [
    {
     "name": "stdout",
     "output_type": "stream",
     "text": [
      "Best Log Loss: 0.10601832371676138 with `min_samples_leaf=91`\n"
     ]
    },
    {
     "data": {
      "image/png": "[encoded data removed]",
      "text/plain": [
       "<Figure size 720x216 with 1 Axes>"
      ]
     },
     "metadata": {
      "needs_background": "light"
     },
     "output_type": "display_data"
    }
   ],
   "source": [
    "min_samples = 0\n",
    "min_leaf_log_loss = 1\n",
    "feature_scores = []\n",
    "\n",
    "for min_samples_leaf in range(1,101):\n",
    "    dt = DecisionTreeClassifier(max_depth=6, max_features=33, min_samples_leaf=min_samples_leaf, random_state=45)\n",
    "    log_loss = -cross_val_score(dt, X_train, y_train, scoring='neg_log_loss').mean()\n",
    "    feature_scores.append(log_loss)\n",
    "    if log_loss < min_leaf_log_loss:\n",
    "        min_samples = min_samples_leaf\n",
    "        min_leaf_log_loss = log_loss\n",
    "print(f'Best Log Loss: {min_leaf_log_loss} with `min_samples_leaf={min_samples}`')\n",
    "\n",
    "plt.figure(figsize=(10, 3))\n",
    "plt.plot(feature_scores, c='purple', label='Log Loss Scores')\n",
    "plt.title('Minimum number of samples required to be at a leaf node')\n",
    "plt.xlabel('Number of samples')\n",
    "plt.ylabel('Log Loss Score')\n",
    "plt.legend();"
   ]
  },
  {
   "cell_type": "markdown",
   "metadata": {},
   "source": [
    "**NOTES:** Best Log Loss: 0.10601832371676138:\n",
    "- `min_samples_leaf=91`\n",
    "- `max_features=33` \n",
    "- `max_features=6`"
   ]
  },
  {
   "cell_type": "markdown",
   "metadata": {},
   "source": [
    "### 5E. Adjust `class_weight`"
   ]
  },
  {
   "cell_type": "code",
   "execution_count": 22,
   "metadata": {},
   "outputs": [
    {
     "data": {
      "text/plain": [
       "0.10555331580715019"
      ]
     },
     "execution_count": 22,
     "metadata": {},
     "output_type": "execute_result"
    }
   ],
   "source": [
    "dt_weighted = DecisionTreeClassifier(max_depth=6, max_features=33, min_samples_leaf=91, class_weight={0: 1.1, 1: 1}, random_state=45)\n",
    " \n",
    "dt_weighted_log_loss = -cross_val_score(dt_weighted, X_train, y_train, scoring='neg_log_loss').mean()\n",
    "\n",
    "dt_weighted_log_loss"
   ]
  },
  {
   "cell_type": "code",
   "execution_count": 23,
   "metadata": {},
   "outputs": [
    {
     "data": {
      "text/plain": [
       "0.10618444913278802"
      ]
     },
     "execution_count": 23,
     "metadata": {},
     "output_type": "execute_result"
    }
   ],
   "source": [
    "dt_weighted = DecisionTreeClassifier(max_depth=6, max_features=33, min_samples_leaf=91, class_weight={0: 1.2, 1: 1}, random_state=45)\n",
    " \n",
    "dt_weighted_log_loss = -cross_val_score(dt_weighted, X_train, y_train, scoring='neg_log_loss').mean()\n",
    "\n",
    "dt_weighted_log_loss"
   ]
  },
  {
   "cell_type": "code",
   "execution_count": 24,
   "metadata": {},
   "outputs": [
    {
     "data": {
      "text/plain": [
       "0.10543104856973777"
      ]
     },
     "execution_count": 24,
     "metadata": {},
     "output_type": "execute_result"
    }
   ],
   "source": [
    "dt_weighted = DecisionTreeClassifier(max_depth=6, max_features=33, min_samples_leaf=91, class_weight={0: 1.2, 1: 1.1}, random_state=45)\n",
    " \n",
    "dt_weighted_log_loss = -cross_val_score(dt_weighted, X_train, y_train, scoring='neg_log_loss').mean()\n",
    "\n",
    "dt_weighted_log_loss"
   ]
  },
  {
   "cell_type": "code",
   "execution_count": 25,
   "metadata": {},
   "outputs": [
    {
     "data": {
      "text/plain": [
       "0.10542866021762423"
      ]
     },
     "execution_count": 25,
     "metadata": {},
     "output_type": "execute_result"
    }
   ],
   "source": [
    "dt_weighted = DecisionTreeClassifier(max_depth=6, max_features=33, min_samples_leaf=91, class_weight={0: 11.9, 1: 11}, random_state=45)\n",
    " \n",
    "dt_weighted_log_loss = -cross_val_score(dt_weighted, X_train, y_train, scoring='neg_log_loss').mean()\n",
    "\n",
    "dt_weighted_log_loss"
   ]
  },
  {
   "cell_type": "code",
   "execution_count": 26,
   "metadata": {},
   "outputs": [
    {
     "data": {
      "text/plain": [
       "0.10540826282101032"
      ]
     },
     "execution_count": 26,
     "metadata": {},
     "output_type": "execute_result"
    }
   ],
   "source": [
    "dt_weighted = DecisionTreeClassifier(max_depth=6, max_features=33, min_samples_leaf=91, class_weight={0: 11.8, 1: 11}, random_state=45)\n",
    " \n",
    "dt_weighted_log_loss = -cross_val_score(dt_weighted, X_train, y_train, scoring='neg_log_loss').mean()\n",
    "\n",
    "dt_weighted_log_loss"
   ]
  },
  {
   "cell_type": "code",
   "execution_count": 27,
   "metadata": {},
   "outputs": [
    {
     "data": {
      "text/plain": [
       "0.10539377794030076"
      ]
     },
     "execution_count": 27,
     "metadata": {},
     "output_type": "execute_result"
    }
   ],
   "source": [
    "dt_weighted = DecisionTreeClassifier(max_depth=6, max_features=33, min_samples_leaf=91, class_weight={0: 11.8, 1: 11.1}, random_state=45)\n",
    " \n",
    "dt_weighted_log_loss = -cross_val_score(dt_weighted, X_train, y_train, scoring='neg_log_loss').mean()\n",
    "\n",
    "dt_weighted_log_loss"
   ]
  },
  {
   "cell_type": "code",
   "execution_count": 28,
   "metadata": {},
   "outputs": [
    {
     "data": {
      "text/plain": [
       "0.1053703553452329"
      ]
     },
     "execution_count": 28,
     "metadata": {},
     "output_type": "execute_result"
    }
   ],
   "source": [
    "dt_weighted = DecisionTreeClassifier(max_depth=6, max_features=33, min_samples_leaf=91, class_weight={0: 118.1, 1: 111}, random_state=45)\n",
    " \n",
    "dt_weighted_log_loss = -cross_val_score(dt_weighted, X_train, y_train, scoring='neg_log_loss').mean()\n",
    "\n",
    "dt_weighted_log_loss"
   ]
  },
  {
   "cell_type": "markdown",
   "metadata": {},
   "source": [
    "**NOTES:** Acknowledging that was a very ugly way to do that but it was faster in the moment to do by hand and not for loop with several if statements\n",
    "\n",
    "lowest I can get log loss is 0.1053703553452329, with `DecisionTreeClassifier(max_depth=6, max_features=33, min_samples_leaf=91, class_weight={0: 118.1, 1: 111}, random_state=45)`"
   ]
  },
  {
   "cell_type": "markdown",
   "metadata": {},
   "source": [
    "### 5F. Change `criterion='entropy'`"
   ]
  },
  {
   "cell_type": "code",
   "execution_count": 29,
   "metadata": {},
   "outputs": [
    {
     "data": {
      "text/plain": [
       "0.12188302364470043"
      ]
     },
     "execution_count": 29,
     "metadata": {},
     "output_type": "execute_result"
    }
   ],
   "source": [
    "dt_entropy = DecisionTreeClassifier(criterion='entropy', \n",
    "                                    max_depth=6, \n",
    "                                    max_features=33, \n",
    "                                    min_samples_leaf=91, \n",
    "                                    class_weight={0: 118.1, 1: 111}, \n",
    "                                    random_state=45)\n",
    "\n",
    "dt_entropy_log_loss = -cross_val_score(dt_entropy, X_train, y_train, scoring='neg_log_loss').mean()\n",
    "\n",
    "dt_entropy_log_loss"
   ]
  },
  {
   "cell_type": "markdown",
   "metadata": {},
   "source": [
    "**NOTES:** This raised the log loss"
   ]
  },
  {
   "cell_type": "markdown",
   "metadata": {},
   "source": [
    "## 5.5 Compare"
   ]
  },
  {
   "cell_type": "code",
   "execution_count": 30,
   "metadata": {},
   "outputs": [],
   "source": [
    "best_dt_model = DecisionTreeClassifier(max_depth=6, \n",
    "                                       max_features=33, \n",
    "                                       min_samples_leaf=91, \n",
    "                                       class_weight={0: 118.1, 1: 111}, \n",
    "                                       random_state=45)\n",
    "best_dt_log_loss = 0.1053703553452329\n",
    "\n",
    "best_knn_model = KNeighborsClassifier(weights='distance', n_neighbors=25)\n",
    "best_knn_log_loss = 0.05616502147205423"
   ]
  },
  {
   "cell_type": "markdown",
   "metadata": {},
   "source": [
    "## 6. Choose and Evaluate an Overall Best Model\n",
    "\n",
    "Which model had the best performance? What type of model was it?\n",
    "\n",
    "Instantiate a variable `final_model` using your best model with the best hyperparameters."
   ]
  },
  {
   "cell_type": "code",
   "execution_count": 31,
   "metadata": {},
   "outputs": [
    {
     "data": {
      "text/plain": [
       "KNeighborsClassifier(n_neighbors=25, weights='distance')"
      ]
     },
     "execution_count": 31,
     "metadata": {},
     "output_type": "execute_result"
    }
   ],
   "source": [
    "# Replace None with appropriate code\n",
    "final_model = best_knn_model\n",
    "\n",
    "# Fit the model on the full training data\n",
    "# (scaled or unscaled depending on the model)\n",
    "final_model.fit(X_train_scaled, y_train)"
   ]
  },
  {
   "cell_type": "markdown",
   "metadata": {},
   "source": [
    "Now, evaluate the log loss, accuracy, precision, and recall. This code is mostly filled in for you, but you need to replace `None` with either `X_test` or `X_test_scaled` depending on the model you chose."
   ]
  },
  {
   "cell_type": "code",
   "execution_count": 32,
   "metadata": {},
   "outputs": [
    {
     "name": "stdout",
     "output_type": "stream",
     "text": [
      "log loss:  0.07383619156608083\n",
      "accuracy:  0.977456887596094\n",
      "precision: 0.9122807017543859\n",
      "recall:    0.7569141193595342\n"
     ]
    }
   ],
   "source": [
    "# Replace None with appropriate code\n",
    "from sklearn.metrics import accuracy_score, precision_score, recall_score, log_loss\n",
    "\n",
    "preds = final_model.predict(X_test_scaled)\n",
    "probs = final_model.predict_proba(X_test_scaled)\n",
    "\n",
    "print(\"log loss: \", log_loss(y_test, probs))\n",
    "print(\"accuracy: \", accuracy_score(y_test, preds))\n",
    "print(\"precision:\", precision_score(y_test, preds))\n",
    "print(\"recall:   \", recall_score(y_test, preds))"
   ]
  },
  {
   "cell_type": "code",
   "execution_count": 33,
   "metadata": {},
   "outputs": [
    {
     "name": "stdout",
     "output_type": "stream",
     "text": [
      "Dummy model would be 92.86512038648347% accurate, \n",
      "and have an error rate of 7.1348796135165315%\n"
     ]
    }
   ],
   "source": [
    "# reminder of what 'dummy' model (that always chooses the majority class) would look like\n",
    "print(f'Dummy model would be {(y.value_counts(normalize=True)[0])*100}% accurate, \\\n",
    "\\nand have an error rate of {(y.value_counts(normalize=True)[1])*100}%')"
   ]
  },
  {
   "cell_type": "markdown",
   "metadata": {},
   "source": [
    "### Previous logistic regression Best Model\n",
    "\n",
    "In a previous lab, we used SMOTE to create additional synthetic data, then tuned the hyperparameters of a logistic regression model to get the following final model metrics:\n",
    "\n",
    "* **Log loss:** 0.13031294393913376\n",
    "* **Accuracy:** 0.9456679825472678\n",
    "* **Precision:** 0.6659919028340081\n",
    "* **Recall:** 0.47889374090247455"
   ]
  },
  {
   "cell_type": "markdown",
   "metadata": {},
   "source": [
    "Interpret your model performance. How would it perform on different kinds of tasks? How much better is it than a \"dummy\" model that always chooses the majority class, or the logistic regression described at the start of the lab?"
   ]
  },
  {
   "cell_type": "code",
   "execution_count": 34,
   "metadata": {},
   "outputs": [
    {
     "name": "stdout",
     "output_type": "stream",
     "text": [
      "\n"
     ]
    }
   ],
   "source": [
    "# Replace None with appropriate text\n",
    "\"\"\"\n",
    "This current best model out performed both logistic regression and dummy models. The time is takes\n",
    "to run the model you save in tinkering. I fould optimal parameter is half the time with \n",
    "KNeighborsClassifier vs DecisionTreeClassifier. \n",
    "\"\"\"\n",
    "print()"
   ]
  },
  {
   "cell_type": "markdown",
   "metadata": {},
   "source": [
    "## Conclusion\n",
    "\n",
    "In this lab, you practiced the end-to-end machine learning process with multiple model algorithms, including tuning the hyperparameters for those different algorithms. You saw how nonparametric models can be more flexible than linear models, potentially leading to overfitting but also potentially reducing underfitting by being able to learn non-linear relationships between variables. You also likely saw how there can be a tradeoff between speed and performance, with good metrics correlating with slow speeds."
   ]
  }
 ],
 "metadata": {
  "kernelspec": {
   "display_name": "Python (learn-env)",
   "language": "python",
   "name": "learn-env"
  },
  "language_info": {
   "codemirror_mode": {
    "name": "ipython",
    "version": 3
   },
   "file_extension": ".py",
   "mimetype": "text/x-python",
   "name": "python",
   "nbconvert_exporter": "python",
   "pygments_lexer": "ipython3",
   "version": "3.8.5"
  }
 },
 "nbformat": 4,
 "nbformat_minor": 4
}
